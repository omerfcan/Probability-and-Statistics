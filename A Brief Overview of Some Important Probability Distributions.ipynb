{
 "cells": [
  {
   "cell_type": "code",
   "execution_count": 1,
   "metadata": {},
   "outputs": [],
   "source": [
    "import numpy as np\n",
    "import pandas as pd"
   ]
  },
  {
   "cell_type": "code",
   "execution_count": 2,
   "metadata": {},
   "outputs": [],
   "source": [
    "from ipywidgets import interact\n",
    "import scipy.stats as scs\n",
    "import matplotlib.pyplot as plt\n",
    "from IPython.display import Latex, display"
   ]
  },
  {
   "cell_type": "code",
   "execution_count": 3,
   "metadata": {},
   "outputs": [],
   "source": [
    "import matplotlib.dates as mdates"
   ]
  },
  {
   "cell_type": "markdown",
   "metadata": {},
   "source": [
    "## Binomial Distribution\n",
    "\n",
    "It can be used to model events with an output of 0 or 1.\n",
    "\n",
    "Ex:\n",
    "- toss a coin,\n",
    "- Like whether being ill or not, etc."
   ]
  },
  {
   "cell_type": "code",
   "execution_count": 4,
   "metadata": {},
   "outputs": [
    {
     "data": {
      "application/vnd.jupyter.widget-view+json": {
       "model_id": "237cb2b6380940ff822afe778891e3a3",
       "version_major": 2,
       "version_minor": 0
      },
      "text/plain": [
       "interactive(children=(FloatSlider(value=0.5, description='p', max=1.0, step=0.01), IntSlider(value=10, descrip…"
      ]
     },
     "metadata": {},
     "output_type": "display_data"
    }
   ],
   "source": [
    "@interact(p=(0.0,1.0,0.01), size=(1,50))\n",
    "def bino(p=0.5, size=10):\n",
    "    x = np.arange(size + 1)\n",
    "    binom = scs.distributions.binom(size, p).pmf(x)\n",
    "    plt.stem(x, binom, label=f\"$n={size},p={p}$\")\n",
    "#     pd.Series(atis_sonuclari.sum(axis=0)).value_counts(True).sort_index().plot(kind='bar', color='red')\n",
    "    plt.ylim(-0.1, 1.1)  # Grafikteki y değerlerinin limitleri.\n",
    "    plt.plot(scs.norm(size*p, (size*p*(1-p))**0.5).pdf(range(0, size + 1)), color='orange', label='normal yaklastirma')\n",
    "    plt.legend()\n"
   ]
  },
  {
   "cell_type": "markdown",
   "metadata": {},
   "source": [
    "## Normal Dagilim\n",
    "\n",
    "Kullanim alanlari:\n",
    "- Hemen hemen her yerde"
   ]
  },
  {
   "cell_type": "code",
   "execution_count": 7,
   "metadata": {},
   "outputs": [
    {
     "data": {
      "application/vnd.jupyter.widget-view+json": {
       "model_id": "99bd9b99de954218a2e84d856b081204",
       "version_major": 2,
       "version_minor": 0
      },
      "text/plain": [
       "interactive(children=(FloatSlider(value=0.0, description='mu', max=1.0, min=-1.0), FloatSlider(value=1.0, desc…"
      ]
     },
     "metadata": {},
     "output_type": "display_data"
    }
   ],
   "source": [
    "import scipy.stats as scs\n",
    "import matplotlib.pyplot as plt\n",
    "from ipywidgets import interact\n",
    "import numpy as np\n",
    "\n",
    "@interact(mu=(-1.0,1.0,0.1), sigma=(0.2, 2.0, 0.1))\n",
    "def normal_dagilim(mu=0.0, sigma=1.0):\n",
    "    x = np.linspace(-5, 5., 1000)\n",
    "#     lamda = 1.0\n",
    "    expon = scs.distributions.norm(mu, sigma).pdf(x)\n",
    "    expon1 = scs.distributions.norm(0., 1.).pdf(x)\n",
    "    plt.plot(x, expon, label=f'$\\mu={mu}, \\sigma= {sigma}$')\n",
    "    plt.plot(x, expon1, label='$\\mu=0.0, \\sigma=1.0$')\n",
    "    plt.legend()\n",
    "    \n",
    "    plt.xlim(-5, 5.)\n",
    "    plt.ylim(-0.1, 2.)\n",
    "    plt.axvline(mu, color='black', linestyle='--', alpha=0.3)"
   ]
  },
  {
   "attachments": {
    "image.png": {
     "image/png": "[encoded data removed]"
    }
   },
   "cell_type": "markdown",
   "metadata": {},
   "source": [
    "![image.png](attachment:image.png)"
   ]
  },
  {
   "attachments": {
    "image.png": {
     "image/png": "[encoded data removed]"
    }
   },
   "cell_type": "markdown",
   "metadata": {},
   "source": [
    "# Ustel Dagilim (Exponential Distribution)\n",
    "\n",
    "![image.png](attachment:image.png)\n",
    "\n",
    "Kullanim alanlari:\n",
    "- Cihaz omru modellemesi\n",
    "- Bekleme sureleri"
   ]
  },
  {
   "cell_type": "code",
   "execution_count": 23,
   "metadata": {},
   "outputs": [
    {
     "data": {
      "application/vnd.jupyter.widget-view+json": {
       "model_id": "c87baf7b82894fe0bbea8472b8b292b9",
       "version_major": 2,
       "version_minor": 0
      },
      "text/plain": [
       "interactive(children=(FloatSlider(value=1.0, description='lamda', max=2.0, min=0.1), Output()), _dom_classes=(…"
      ]
     },
     "metadata": {},
     "output_type": "display_data"
    }
   ],
   "source": [
    "import scipy.stats as scs\n",
    "import matplotlib.pyplot as plt\n",
    "from ipywidgets import interact\n",
    "import numpy as np\n",
    "\n",
    "@interact\n",
    "def ustel_dagilim(lamda=(0.1, 2.0, 0.1)):\n",
    "    x = np.linspace(0.001, 10., 1000)\n",
    "#     lamda = 1.0\n",
    "    expon = scs.distributions.expon(0., 1/lamda).pdf(x)\n",
    "    expon1 = scs.distributions.expon(0., 1.).pdf(x)\n",
    "    plt.plot(x, expon, label=f'$\\lambda = {lamda: .2f}$')\n",
    "    plt.plot(x, expon1, label='$\\lambda =1.0$')\n",
    "    plt.legend()\n",
    "    \n",
    "    plt.xlim(-0.1, 5.)\n",
    "    plt.ylim(-0.1, 2.)"
   ]
  }
 ],
 "metadata": {
  "kernelspec": {
   "display_name": "Python 3 (ipykernel)",
   "language": "python",
   "name": "python3"
  },
  "language_info": {
   "codemirror_mode": {
    "name": "ipython",
    "version": 3
   },
   "file_extension": ".py",
   "mimetype": "text/x-python",
   "name": "python",
   "nbconvert_exporter": "python",
   "pygments_lexer": "ipython3",
   "version": "3.9.12"
  }
 },
 "nbformat": 4,
 "nbformat_minor": 2
}
